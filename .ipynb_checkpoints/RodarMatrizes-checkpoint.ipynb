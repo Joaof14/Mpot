{
 "cells": [
  {
   "cell_type": "code",
   "execution_count": 138,
   "id": "c73f0d54",
   "metadata": {},
   "outputs": [
    {
     "ename": "ImportError",
     "evalue": "cannot import name 'pot' from 'metpot' (/home/jpfernandes/Área de Trabalho/jp_acad_prof/Faculdade/UFERSA/IC/Autov/codigos/metpot.py)",
     "output_type": "error",
     "traceback": [
      "\u001b[0;31m---------------------------------------------------------------------------\u001b[0m",
      "\u001b[0;31mImportError\u001b[0m                               Traceback (most recent call last)",
      "Cell \u001b[0;32mIn[138], line 4\u001b[0m\n\u001b[1;32m      2\u001b[0m \u001b[38;5;28;01mfrom\u001b[39;00m \u001b[38;5;21;01mio\u001b[39;00m \u001b[38;5;28;01mimport\u001b[39;00m StringIO\n\u001b[1;32m      3\u001b[0m \u001b[38;5;28;01mimport\u001b[39;00m \u001b[38;5;21;01mnumpy\u001b[39;00m \u001b[38;5;28;01mas\u001b[39;00m \u001b[38;5;21;01mnp\u001b[39;00m\n\u001b[0;32m----> 4\u001b[0m \u001b[38;5;28;01mfrom\u001b[39;00m \u001b[38;5;21;01mmetpot\u001b[39;00m \u001b[38;5;28;01mimport\u001b[39;00m pot\n\u001b[1;32m      5\u001b[0m \u001b[38;5;28;01mimport\u001b[39;00m \u001b[38;5;21;01mos\u001b[39;00m\n\u001b[1;32m      6\u001b[0m \u001b[38;5;28;01mimport\u001b[39;00m \u001b[38;5;21;01mglob\u001b[39;00m\n",
      "\u001b[0;31mImportError\u001b[0m: cannot import name 'pot' from 'metpot' (/home/jpfernandes/Área de Trabalho/jp_acad_prof/Faculdade/UFERSA/IC/Autov/codigos/metpot.py)"
     ]
    }
   ],
   "source": [
    "import scipy\n",
    "from io import StringIO\n",
    "import numpy as np\n",
    "from metpot import Pot\n",
    "import os\n",
    "import glob\n",
    "import pandas as pd"
   ]
  },
  {
   "cell_type": "code",
   "execution_count": null,
   "id": "cdb85626",
   "metadata": {},
   "outputs": [],
   "source": []
  },
  {
   "cell_type": "code",
   "execution_count": null,
   "id": "a13616aa",
   "metadata": {},
   "outputs": [],
   "source": [
    "caminho = 'matrizes/'\n",
    "arquivos_na_pasta = glob.glob(os.path.join(caminho, '*'))\n"
   ]
  },
  {
   "cell_type": "code",
   "execution_count": null,
   "id": "964566f4",
   "metadata": {},
   "outputs": [],
   "source": [
    "arquivos_na_pasta"
   ]
  },
  {
   "cell_type": "code",
   "execution_count": null,
   "id": "5fc2dfb6",
   "metadata": {},
   "outputs": [],
   "source": [
    "coluna_nomes = []\n",
    "coluna_ordem = []\n",
    "coluna_campo = []\n",
    "coluna_simetria = []\n",
    "coluna_ite = []\n",
    "coluna_autovalor = []\n",
    "coluna_erro = []"
   ]
  },
  {
   "cell_type": "code",
   "execution_count": null,
   "id": "24678ba6",
   "metadata": {},
   "outputs": [],
   "source": [
    "for arquivo in arquivos_na_pasta:\n",
    "    ordem, _, _, _, campo, simetria = scipy.io.mminfo(arquivo)\n",
    "    matriz = scipy.io.mmread(arquivo)\n",
    "    matriz.A\n",
    "    A = np.array(matriz.A)\n",
    "    n = A.shape[1]\n",
    "    yo = np.ones(n)\n",
    "    \n",
    "    coluna_nomes.append(arquivo)\n",
    "    coluna_ordem.append(ordem)\n",
    "    coluna_campo.append(campo)\n",
    "    coluna_simetria.append(simetria)\n",
    "    \n",
    "    try:\n",
    "        i, e, autovalor= Pot(A, yo)\n",
    "        coluna_ite.append(i)\n",
    "        coluna_autovalor.append(autovalor)\n",
    "        coluna_erro.append(e)\n",
    "        \n",
    "    except:\n",
    "        coluna_ite.append('erro no calculo')\n",
    "        coluna_autovalor.append('erro no calculo')\n",
    "        coluna_erro.append('erro no calculo')\n",
    "    \n",
    "    print('\\n')\n",
    "    \n",
    "    \n",
    "    \n",
    "        \n"
   ]
  },
  {
   "cell_type": "code",
   "execution_count": null,
   "id": "880b5647",
   "metadata": {},
   "outputs": [],
   "source": [
    "dados = {\n",
    "    'Matriz': coluna_nomes,\n",
    "    'Autovalor': coluna_autovalor,\n",
    "    'Iterações': coluna_ite,\n",
    "    'Erros': coluna_erro,\n",
    "    'Ordem': coluna_ordem,\n",
    "    'Campo': coluna_campo,\n",
    "    'Simetria': coluna_simetria\n",
    "}"
   ]
  },
  {
   "cell_type": "code",
   "execution_count": null,
   "id": "d37d2d48",
   "metadata": {},
   "outputs": [],
   "source": [
    "dados"
   ]
  },
  {
   "cell_type": "code",
   "execution_count": null,
   "id": "7868385a",
   "metadata": {},
   "outputs": [],
   "source": [
    "df = pd.DataFrame( dados )"
   ]
  },
  {
   "cell_type": "code",
   "execution_count": null,
   "id": "9791c842",
   "metadata": {},
   "outputs": [],
   "source": [
    "df"
   ]
  },
  {
   "cell_type": "code",
   "execution_count": null,
   "id": "c28b7675",
   "metadata": {},
   "outputs": [],
   "source": []
  }
 ],
 "metadata": {
  "kernelspec": {
   "display_name": "Python 3 (ipykernel)",
   "language": "python",
   "name": "python3"
  },
  "language_info": {
   "codemirror_mode": {
    "name": "ipython",
    "version": 3
   },
   "file_extension": ".py",
   "mimetype": "text/x-python",
   "name": "python",
   "nbconvert_exporter": "python",
   "pygments_lexer": "ipython3",
   "version": "3.11.5"
  }
 },
 "nbformat": 4,
 "nbformat_minor": 5
}
