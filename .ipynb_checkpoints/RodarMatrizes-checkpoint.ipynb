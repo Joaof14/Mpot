{
 "cells": [
  {
   "cell_type": "code",
   "execution_count": 40,
   "id": "c73f0d54",
   "metadata": {},
   "outputs": [],
   "source": [
    "import scipy\n",
    "from io import StringIO\n",
    "import numpy as np\n",
    "from metpot import *\n",
    "import os\n",
    "import glob\n",
    "import pandas as pd"
   ]
  },
  {
   "cell_type": "code",
   "execution_count": 41,
   "id": "a13616aa",
   "metadata": {},
   "outputs": [],
   "source": [
    "caminho = 'matrizes/'\n",
    "arquivos_na_pasta = glob.glob(os.path.join(caminho, '*'))\n"
   ]
  },
  {
   "cell_type": "code",
   "execution_count": 42,
   "id": "964566f4",
   "metadata": {},
   "outputs": [
    {
     "data": {
      "text/plain": [
       "['matrizes/bcsstm01.mtx',\n",
       " 'matrizes/bcsstk05.mtx',\n",
       " 'matrizes/1138_bus.mtx',\n",
       " 'matrizes/ck104.mtx',\n",
       " 'matrizes/dw2048.mtx',\n",
       " 'matrizes/bcsstk01.mtx',\n",
       " 'matrizes/ck400.mtx',\n",
       " 'matrizes/dw8192.mtx',\n",
       " 'matrizes/sherman4.mtx',\n",
       " 'matrizes/gr_30_30.mtx',\n",
       " 'matrizes/e05r0100.mtx',\n",
       " 'matrizes/fidap005.mtx']"
      ]
     },
     "execution_count": 42,
     "metadata": {},
     "output_type": "execute_result"
    }
   ],
   "source": [
    "arquivos_na_pasta"
   ]
  },
  {
   "cell_type": "code",
   "execution_count": 43,
   "id": "7868385a",
   "metadata": {},
   "outputs": [],
   "source": [
    "df = pd.DataFrame(columns = ['Matriz', 'Autovalor' , 'Iterações', ' Erros', 'Ordem', 'Campo', 'Simetria' ] )"
   ]
  },
  {
   "cell_type": "code",
   "execution_count": 52,
   "id": "24678ba6",
   "metadata": {},
   "outputs": [
    {
     "name": "stdout",
     "output_type": "stream",
     "text": [
      "48\n",
      "real\n",
      "symmetric\n",
      "iterações:  10000\n",
      "erro:  nan\n",
      "autovalor:  nan\n",
      "\n",
      "\n",
      "153\n",
      "real\n",
      "symmetric\n",
      "iterações:  2\n",
      "erro:  7.003315343114804e-14\n",
      "autovalor:  1361922.6408104694\n",
      "\n",
      "\n",
      "1138\n",
      "real\n",
      "symmetric\n",
      "iterações:  5\n",
      "erro:  3.5231504480516034e-14\n",
      "autovalor:  1474.8574148220223\n",
      "\n",
      "\n",
      "104\n",
      "real\n",
      "general\n",
      "iterações:  2\n",
      "erro:  2.0957794139813404e-05\n",
      "autovalor:  0.9569725780473788\n",
      "\n",
      "\n",
      "2048\n",
      "real\n",
      "general\n",
      "iterações:  2\n",
      "erro:  0.0\n",
      "autovalor:  1.000000000000004\n",
      "\n",
      "\n",
      "48\n",
      "real\n",
      "symmetric\n",
      "iterações:  2\n",
      "erro:  2.7029905163095767e-06\n",
      "autovalor:  1338325305.7142258\n",
      "\n",
      "\n",
      "400\n",
      "real\n",
      "general\n",
      "iterações:  2\n",
      "erro:  0.0\n",
      "autovalor:  1.0\n",
      "\n",
      "\n",
      "8192\n",
      "real\n",
      "general\n",
      "iterações:  2\n",
      "erro:  0.0\n",
      "autovalor:  0.8473577524655383\n",
      "\n",
      "\n",
      "1104\n",
      "real\n",
      "general\n",
      "iterações:  2\n",
      "erro:  0.0\n",
      "autovalor:  1.0\n",
      "\n",
      "\n",
      "900\n",
      "integer\n",
      "symmetric\n",
      "iterações:  15\n",
      "erro:  2.5948322045262944e-05\n",
      "autovalor:  10.718195859423563\n",
      "\n",
      "\n",
      "236\n",
      "real\n",
      "general\n",
      "iterações:  2\n",
      "erro:  7.264830274118489e-05\n",
      "autovalor:  5.617973248956158\n",
      "\n",
      "\n",
      "27\n",
      "real\n",
      "general\n",
      "iterações:  2\n",
      "erro:  8.94833913191285e-06\n",
      "autovalor:  3770611.8597459625\n",
      "\n",
      "\n"
     ]
    }
   ],
   "source": [
    "for arquivo in arquivos_na_pasta:\n",
    "    ordem, _, _, _, campo, simetria = scipy.io.mminfo(arquivo)\n",
    "    matriz = scipy.io.mmread(arquivo)\n",
    "    matriz.A\n",
    "    A = np.array(matriz.A)\n",
    "    n = A.shape[1]\n",
    "    yo = np.ones(n)\n",
    "    \n",
    "    df['Matriz'] = arquivo\n",
    "    df['Campo'] = campo\n",
    "    df['Simetria'] = simetria\n",
    "    df['Ordem'] = ordem\n",
    "    print(ordem)\n",
    "    print(campo)\n",
    "    print(simetria)\n",
    "    \n",
    "    try:\n",
    "        i, e, autovalor= Pot(A, yo)\n",
    "        df[' Erros'] = e\n",
    "        df['Autovalor'] = autovalor\n",
    "        df['Iteraçôes'] = i\n",
    "    except:\n",
    "        df[' Erros'] = 'erro no calculo'\n",
    "        df['Autovalor'] = 'erro no calculo'\n",
    "        df['Iteraçôes'] = 'erro no calculo'\n",
    "    \n",
    "    print('\\n')\n",
    "    df\n",
    "    \n",
    "    \n",
    "        \n"
   ]
  }
 ],
 "metadata": {
  "kernelspec": {
   "display_name": "Python 3 (ipykernel)",
   "language": "python",
   "name": "python3"
  },
  "language_info": {
   "codemirror_mode": {
    "name": "ipython",
    "version": 3
   },
   "file_extension": ".py",
   "mimetype": "text/x-python",
   "name": "python",
   "nbconvert_exporter": "python",
   "pygments_lexer": "ipython3",
   "version": "3.11.5"
  }
 },
 "nbformat": 4,
 "nbformat_minor": 5
}
