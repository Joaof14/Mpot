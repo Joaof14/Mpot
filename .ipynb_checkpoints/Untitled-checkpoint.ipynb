{
 "cells": [
  {
   "cell_type": "code",
   "execution_count": 3,
   "id": "c73f0d54",
   "metadata": {},
   "outputs": [],
   "source": [
    "import scipy\n",
    "from io import StringIO\n",
    "import numpy as np\n",
    "\n"
   ]
  },
  {
   "cell_type": "code",
   "execution_count": 4,
   "id": "a13616aa",
   "metadata": {},
   "outputs": [
    {
     "data": {
      "text/plain": [
       "<48x48 sparse matrix of type '<class 'numpy.float64'>'\n",
       "\twith 400 stored elements in COOrdinate format>"
      ]
     },
     "metadata": {},
     "output_type": "display_data"
    }
   ],
   "source": [
    "matriz = scipy.io.mmread(\"bcsstk01.mtx\")\n",
    "display(matriz)"
   ]
  },
  {
   "cell_type": "code",
   "execution_count": 5,
   "id": "964566f4",
   "metadata": {},
   "outputs": [],
   "source": [
    "A = np.array(matriz.A)"
   ]
  },
  {
   "cell_type": "code",
   "execution_count": 10,
   "id": "24678ba6",
   "metadata": {},
   "outputs": [
    {
     "ename": "TypeError",
     "evalue": "'coo_matrix' object is not subscriptable",
     "output_type": "error",
     "traceback": [
      "\u001b[0;31m---------------------------------------------------------------------------\u001b[0m",
      "\u001b[0;31mTypeError\u001b[0m                                 Traceback (most recent call last)",
      "Cell \u001b[0;32mIn[10], line 1\u001b[0m\n\u001b[0;32m----> 1\u001b[0m matriz[\u001b[38;5;241m0\u001b[39m]\n",
      "\u001b[0;31mTypeError\u001b[0m: 'coo_matrix' object is not subscriptable"
     ]
    }
   ],
   "source": [
    "matriz"
   ]
  },
  {
   "cell_type": "code",
   "execution_count": null,
   "id": "ae5f2372",
   "metadata": {},
   "outputs": [],
   "source": [
    "matrizinfo = scipy.io.mminfo(\"bcsstk01.mtx\")"
   ]
  }
 ],
 "metadata": {
  "kernelspec": {
   "display_name": "Python 3 (ipykernel)",
   "language": "python",
   "name": "python3"
  },
  "language_info": {
   "codemirror_mode": {
    "name": "ipython",
    "version": 3
   },
   "file_extension": ".py",
   "mimetype": "text/x-python",
   "name": "python",
   "nbconvert_exporter": "python",
   "pygments_lexer": "ipython3",
   "version": "3.11.5"
  }
 },
 "nbformat": 4,
 "nbformat_minor": 5
}
